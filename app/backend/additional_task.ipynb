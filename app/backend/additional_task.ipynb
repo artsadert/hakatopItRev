{
 "cells": [
  {
   "cell_type": "code",
   "execution_count": null,
   "id": "29bef43e-691f-430c-be46-935cc2cb1bdf",
   "metadata": {},
   "outputs": [],
   "source": [
    "import os\n",
    "HOME = os.getcwd()\n",
    "print(HOME)"
   ]
  },
  {
   "cell_type": "code",
   "execution_count": null,
   "id": "8c4b8326-2e8c-4a40-b239-ec4928112257",
   "metadata": {},
   "outputs": [],
   "source": [
    "%cd {HOME}\n",
    "!git clone https://github.com/IDEA-Research/GroundingDINO.git\n",
    "%cd {HOME}/GroundingDINO\n",
    "!pip install -q -e .\n",
    "!pip install -q roboflow"
   ]
  },
  {
   "cell_type": "code",
   "execution_count": null,
   "id": "af94a30f-1677-4765-bca4-c3f9dc3dff5f",
   "metadata": {},
   "outputs": [],
   "source": [
    "import os\n",
    "\n",
    "CONFIG_PATH = os.path.join(HOME, \"GroundingDINO/groundingdino/config/GroundingDINO_SwinT_OGC.py\")\n",
    "print(CONFIG_PATH, \"; exist:\", os.path.isfile(CONFIG_PATH))"
   ]
  },
  {
   "cell_type": "code",
   "execution_count": null,
   "id": "b329d558-7c7a-439f-bd35-5bab403e4de0",
   "metadata": {},
   "outputs": [],
   "source": [
    "%cd {HOME}\n",
    "!mkdir {HOME}/weights\n",
    "%cd {HOME}/weights\n",
    "\n",
    "!wget -q https://github.com/IDEA-Research/GroundingDINO/releases/download/v0.1.0-alpha/groundingdino_swint_ogc.pth"
   ]
  },
  {
   "cell_type": "code",
   "execution_count": null,
   "id": "6a4594c1-8bd5-4e12-83c6-8b387a2cf9ec",
   "metadata": {},
   "outputs": [],
   "source": [
    "import os\n",
    "\n",
    "WEIGHTS_NAME = \"groundingdino_swint_ogc.pth\"\n",
    "WEIGHTS_PATH = os.path.join(HOME, \"weights\", WEIGHTS_NAME)\n",
    "print(WEIGHTS_PATH, \"; exist:\", os.path.isfile(WEIGHTS_PATH))"
   ]
  },
  {
   "cell_type": "code",
   "execution_count": null,
   "id": "38886652-2d27-4aa5-b2ad-0496e352992a",
   "metadata": {},
   "outputs": [],
   "source": [
    "%cd {HOME}/GroundingDINO\n",
    "\n",
    "from groundingdino.util.inference import load_model, load_image, predict, annotate\n",
    "\n",
    "model = load_model(CONFIG_PATH, WEIGHTS_PATH)"
   ]
  },
  {
   "cell_type": "code",
   "execution_count": null,
   "id": "ceb52dd8-5b9a-44dc-ba58-9ffba0946d08",
   "metadata": {},
   "outputs": [],
   "source": [
    "import os\n",
    "import supervision as sv\n",
    "path = \"../data/IMG1.jpg\"\n",
    "def second(path):\n",
    "  IMAGE_NAME = path.split(sep='/')[-1]\n",
    "  DATA = path.split(sep='/')[-2]\n",
    "  HOME = path.split(sep='/')[-3]\n",
    "  IMAGE_PATH = os.path.abspath(path)\n",
    "\n",
    "  TEXT_PROMPT = \"red rectangular price tag, yellow rectangular price tag\"\n",
    "  BOX_TRESHOLD = 0.40\n",
    "  TEXT_TRESHOLD = 0.25\n",
    "\n",
    "  image_source, image = load_image(IMAGE_PATH)\n",
    "\n",
    "  boxes, logits, phrases = predict(\n",
    "      model=model,\n",
    "      image=image,\n",
    "      caption=TEXT_PROMPT,\n",
    "      box_threshold=BOX_TRESHOLD,\n",
    "      text_threshold=TEXT_TRESHOLD\n",
    "  )\n",
    "  if len(boxes) > 0:\n",
    "    result = 1\n",
    "  else:\n",
    "    result = 0\n",
    "  return result\n",
    "print(result(path))"
   ]
  },
  {
   "cell_type": "code",
   "execution_count": null,
   "id": "538ffd45-bb1d-472d-a546-800129c12947",
   "metadata": {},
   "outputs": [],
   "source": []
  },
  {
   "cell_type": "code",
   "execution_count": null,
   "id": "21328e08-6eab-45cb-a9cb-626fa7bfe77e",
   "metadata": {},
   "outputs": [],
   "source": []
  },
  {
   "cell_type": "code",
   "execution_count": null,
   "id": "fc1d6599-9daa-4655-95f7-721e04b450b3",
   "metadata": {},
   "outputs": [],
   "source": []
  }
 ],
 "metadata": {
  "kernelspec": {
   "display_name": "Python 3 (ipykernel)",
   "language": "python",
   "name": "python3"
  },
  "language_info": {
   "codemirror_mode": {
    "name": "ipython",
    "version": 3
   },
   "file_extension": ".py",
   "mimetype": "text/x-python",
   "name": "python",
   "nbconvert_exporter": "python",
   "pygments_lexer": "ipython3",
   "version": "3.11.7"
  }
 },
 "nbformat": 4,
 "nbformat_minor": 5
}
